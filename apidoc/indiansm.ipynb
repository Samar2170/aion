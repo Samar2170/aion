{
 "cells": [
  {
   "cell_type": "code",
   "execution_count": 2,
   "metadata": {},
   "outputs": [],
   "source": [
    "import requests\n",
    "import dotenv\n",
    "import os\n"
   ]
  },
  {
   "cell_type": "code",
   "execution_count": 4,
   "metadata": {},
   "outputs": [],
   "source": [
    "ak=os.getenv('INDIAN_API_KEY')"
   ]
  },
  {
   "cell_type": "code",
   "execution_count": 19,
   "metadata": {},
   "outputs": [],
   "source": [
    "resp=requests.get('https://stock.indianapi.in/stock?name=Axis+Bank',\n",
    "                  headers={\n",
    "                      'X-Api-Key':ak\n",
    "                  }\n",
    "                  )"
   ]
  },
  {
   "cell_type": "code",
   "execution_count": 20,
   "metadata": {},
   "outputs": [
    {
     "data": {
      "text/plain": [
       "<Response [200]>"
      ]
     },
     "execution_count": 20,
     "metadata": {},
     "output_type": "execute_result"
    }
   ],
   "source": [
    "resp"
   ]
  },
  {
   "cell_type": "code",
   "execution_count": 21,
   "metadata": {},
   "outputs": [],
   "source": [
    "data=resp.json()"
   ]
  },
  {
   "cell_type": "code",
   "execution_count": 22,
   "metadata": {},
   "outputs": [
    {
     "data": {
      "text/plain": [
       "dict_keys(['companyName', 'industry', 'companyProfile', 'currentPrice', 'stockTechnicalData', 'percentChange', 'yearHigh', 'yearLow', 'financials', 'keyMetrics', 'futureExpiryDates', 'futureOverviewData', 'initialStockFinancialData', 'analystView', 'recosBar', 'riskMeter', 'shareholding', 'stockCorporateActionData', 'stockDetailsReusableData', 'stockFinancialData', 'recentNews'])"
      ]
     },
     "execution_count": 22,
     "metadata": {},
     "output_type": "execute_result"
    }
   ],
   "source": [
    "data.keys()"
   ]
  },
  {
   "cell_type": "code",
   "execution_count": 23,
   "metadata": {},
   "outputs": [
    {
     "data": {
      "text/plain": [
       "[{'displayName': 'Interest Income Bank ',\n",
       "  'key': 'InterestIncomeBank',\n",
       "  'value': '112759.05',\n",
       "  'qoQComp': None,\n",
       "  'yqoQComp': None},\n",
       " {'displayName': 'Total Interest Expense ',\n",
       "  'key': 'TotalInterestExpense',\n",
       "  'value': '61390.74',\n",
       "  'qoQComp': None,\n",
       "  'yqoQComp': None},\n",
       " {'displayName': 'Net Interest Income ',\n",
       "  'key': 'NetInterestIncome',\n",
       "  'value': '51368.31',\n",
       "  'qoQComp': None,\n",
       "  'yqoQComp': None},\n",
       " {'displayName': 'Loan Loss Provision ',\n",
       "  'key': 'LoanLossProvision',\n",
       "  'value': '3753.92',\n",
       "  'qoQComp': None,\n",
       "  'yqoQComp': None},\n",
       " {'displayName': 'Net Interest Inc After Loan Loss Prov ',\n",
       "  'key': 'NetInterestIncAfterLoanLossProv',\n",
       "  'value': '47614.39',\n",
       "  'qoQComp': None,\n",
       "  'yqoQComp': None},\n",
       " {'displayName': 'Non- Interest Income Bank ',\n",
       "  'key': 'Non-InterestIncomeBank',\n",
       "  'value': '25230.31',\n",
       "  'qoQComp': None,\n",
       "  'yqoQComp': None},\n",
       " {'displayName': 'Non- Interest Expense Bank ',\n",
       "  'key': 'Non-InterestExpenseBank',\n",
       "  'value': '-37666.70',\n",
       "  'qoQComp': None,\n",
       "  'yqoQComp': None},\n",
       " {'displayName': 'Net Income Before Taxes ',\n",
       "  'key': 'NetIncomeBeforeTaxes',\n",
       "  'value': '35178.00',\n",
       "  'qoQComp': None,\n",
       "  'yqoQComp': None},\n",
       " {'displayName': 'Provisionfor Income Taxes ',\n",
       "  'key': 'ProvisionforIncomeTaxes',\n",
       "  'value': '8754.46',\n",
       "  'qoQComp': None,\n",
       "  'yqoQComp': None},\n",
       " {'displayName': 'Net Income After Taxes ',\n",
       "  'key': 'NetIncomeAfterTaxes',\n",
       "  'value': '26423.54',\n",
       "  'qoQComp': None,\n",
       "  'yqoQComp': None},\n",
       " {'displayName': 'Minority Interest ',\n",
       "  'key': 'MinorityInterest',\n",
       "  'value': '-106.05',\n",
       "  'qoQComp': None,\n",
       "  'yqoQComp': None},\n",
       " {'displayName': 'Equity In Affiliates ',\n",
       "  'key': 'EquityInAffiliates',\n",
       "  'value': '68.71',\n",
       "  'qoQComp': None,\n",
       "  'yqoQComp': None},\n",
       " {'displayName': 'Net Income Before Extra Items ',\n",
       "  'key': 'NetIncomeBeforeExtraItems',\n",
       "  'value': '26386.20',\n",
       "  'qoQComp': None,\n",
       "  'yqoQComp': None},\n",
       " {'displayName': 'Net Income ',\n",
       "  'key': 'NetIncome',\n",
       "  'value': '26386.20',\n",
       "  'qoQComp': None,\n",
       "  'yqoQComp': None},\n",
       " {'displayName': 'Income Availableto Com Excl Extra Ord ',\n",
       "  'key': 'IncomeAvailabletoComExclExtraOrd',\n",
       "  'value': '26386.20',\n",
       "  'qoQComp': None,\n",
       "  'yqoQComp': None},\n",
       " {'displayName': 'Income Availableto Com Incl Extra Ord ',\n",
       "  'key': 'IncomeAvailabletoComInclExtraOrd',\n",
       "  'value': '26386.20',\n",
       "  'qoQComp': None,\n",
       "  'yqoQComp': None},\n",
       " {'displayName': 'Diluted Net Income ',\n",
       "  'key': 'DilutedNetIncome',\n",
       "  'value': '26386.20',\n",
       "  'qoQComp': None,\n",
       "  'yqoQComp': None},\n",
       " {'displayName': 'Diluted Weighted Average Shares ',\n",
       "  'key': 'DilutedWeightedAverageShares',\n",
       "  'value': '310.40',\n",
       "  'qoQComp': None,\n",
       "  'yqoQComp': None},\n",
       " {'displayName': 'Diluted EPS Excluding Extra Ord Items ',\n",
       "  'key': 'DilutedEPSExcludingExtraOrdItems',\n",
       "  'value': '85.01',\n",
       "  'qoQComp': None,\n",
       "  'yqoQComp': None},\n",
       " {'displayName': 'DPS- Common Stock Primary Issue ',\n",
       "  'key': 'DPS-CommonStockPrimaryIssue',\n",
       "  'value': '1.00',\n",
       "  'qoQComp': None,\n",
       "  'yqoQComp': None},\n",
       " {'displayName': 'Diluted Normalized EPS ',\n",
       "  'key': 'DilutedNormalizedEPS',\n",
       "  'value': '84.34',\n",
       "  'qoQComp': None,\n",
       "  'yqoQComp': None}]"
      ]
     },
     "execution_count": 23,
     "metadata": {},
     "output_type": "execute_result"
    }
   ],
   "source": [
    "data['financials'][0]['stockFinancialMap']['INC']"
   ]
  },
  {
   "cell_type": "code",
   "execution_count": 10,
   "metadata": {},
   "outputs": [
    {
     "data": {
      "text/plain": [
       "'Iron & Steel'"
      ]
     },
     "execution_count": 10,
     "metadata": {},
     "output_type": "execute_result"
    }
   ],
   "source": [
    "data['industry']"
   ]
  },
  {
   "cell_type": "code",
   "execution_count": 13,
   "metadata": {},
   "outputs": [
    {
     "data": {
      "text/plain": [
       "16"
      ]
     },
     "execution_count": 13,
     "metadata": {},
     "output_type": "execute_result"
    }
   ],
   "source": [
    "len(data['financials'])"
   ]
  },
  {
   "cell_type": "code",
   "execution_count": null,
   "metadata": {},
   "outputs": [],
   "source": []
  }
 ],
 "metadata": {
  "kernelspec": {
   "display_name": "conceptenv",
   "language": "python",
   "name": "python3"
  },
  "language_info": {
   "codemirror_mode": {
    "name": "ipython",
    "version": 3
   },
   "file_extension": ".py",
   "mimetype": "text/x-python",
   "name": "python",
   "nbconvert_exporter": "python",
   "pygments_lexer": "ipython3",
   "version": "3.10.12"
  }
 },
 "nbformat": 4,
 "nbformat_minor": 2
}
